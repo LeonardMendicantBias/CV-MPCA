{
 "cells": [
  {
   "cell_type": "code",
   "execution_count": 1,
   "metadata": {},
   "outputs": [],
   "source": [
    "%load_ext autoreload\n",
    "%autoreload 2"
   ]
  },
  {
   "cell_type": "code",
   "execution_count": 2,
   "metadata": {},
   "outputs": [
    {
     "name": "stderr",
     "output_type": "stream",
     "text": [
      "c:\\Users\\LeonardNgo\\miniconda3\\envs\\cvmpa\\lib\\site-packages\\torch\\functional.py:504: UserWarning: torch.meshgrid: in an upcoming release, it will be required to pass the indexing argument. (Triggered internally at ..\\aten\\src\\ATen\\native\\TensorShape.cpp:3527.)\n",
      "  return _VF.meshgrid(tensors, **kwargs)  # type: ignore[attr-defined]\n"
     ]
    }
   ],
   "source": [
    "from dataclasses import dataclass, field\n",
    "\n",
    "from typing import Dict, List, Tuple, Optional, Callable, Any\n",
    "\n",
    "import math\n",
    "import numpy as np\n",
    "from sklearn.metrics import accuracy_score, confusion_matrix, roc_auc_score, roc_curve\n",
    "\n",
    "from PIL import Image\n",
    "\n",
    "from pysolotools.consumers import Solo\n",
    "from pysolotools.converters.solo2coco import SOLO2COCOConverter\n",
    "from pysolotools.core.models import KeypointAnnotationDefinition, RGBCameraCapture\n",
    "from pysolotools.core.models import BoundingBox2DAnnotation as BBox2DAnno, BoundingBox3DAnnotation as BBox3DAnno\n",
    "from pysolotools.core.models import Frame, Capture\n",
    "from scipy.spatial.transform import Rotation as R\n",
    "\n",
    "from torchvision.datasets import ImageFolder\n",
    "from torchvision.models import swin_v2_t, Swin_V2_T_Weights\n",
    "from torchvision.models import swin_v2_b, Swin_V2_B_Weights\n",
    "# from torch.utils.data import ConcatDataset, DataLoader\n",
    "from collections import OrderedDict\n",
    "from torch.utils.data import DataLoader\n",
    "\n",
    "import torch\n",
    "from torch import nn, Tensor\n",
    "\n",
    "from torch.nn import functional as F\n",
    "import torchprofile\n",
    "\n",
    "from torchvision.ops import FeaturePyramidNetwork, MLP, sigmoid_focal_loss\n",
    "import lightning.pytorch as pl\n",
    "from lightning.pytorch.loggers import TensorBoardLogger\n",
    "from pytorch_lightning.callbacks import LearningRateMonitor\n",
    "\n",
    "import matplotlib.pyplot as plt\n",
    "from scipy.optimize import linear_sum_assignment\n",
    "from scipy.io import savemat\n",
    "\n",
    "from sklearn.metrics import auc, roc_curve\n",
    "from sklearn.metrics import RocCurveDisplay\n",
    "from scipy.spatial.distance import cdist\n",
    "\n",
    "from mmdet.apis import DetInferencer\n",
    "import reader\n",
    "import utils\n",
    "import network\n",
    "import transformer\n",
    "import cvmpca_main as cvmpca\n",
    "from torchvision.ops import FeaturePyramidNetwork\n",
    "from my_trainer import SetCriterion\n",
    "\n",
    "torch.set_float32_matmul_precision('medium')\n",
    "# %matplotlib ipympl"
   ]
  },
  {
   "cell_type": "code",
   "execution_count": 3,
   "metadata": {},
   "outputs": [],
   "source": [
    "train_folder = 'D:/Unity/dataset/solo'\n",
    "# training_dir = './data/train'\n",
    "# testing_dir = './data/test'"
   ]
  },
  {
   "cell_type": "code",
   "execution_count": 4,
   "metadata": {},
   "outputs": [
    {
     "name": "stdout",
     "output_type": "stream",
     "text": [
      "Dataset loaded succesfully.\n"
     ]
    }
   ],
   "source": [
    "# train_loader = reader.UnityDataset.from_unity_to_loader(root=train_folder, batch_size=2)\n",
    "train_loader = reader.UnityMatDataset.from_unity_to_loader(root=train_folder, batch_size=2)\n",
    "\n",
    "for batch in train_loader:\n",
    "    feature_dicts, object_list, _ = batch\n",
    "\n",
    "    break"
   ]
  },
  {
   "cell_type": "code",
   "execution_count": 5,
   "metadata": {},
   "outputs": [
    {
     "name": "stdout",
     "output_type": "stream",
     "text": [
      "camera_0 torch.Size([2, 96, 64, 64])\n",
      "camera_2 torch.Size([2, 192, 32, 32])\n",
      "camera torch.Size([2, 384, 16, 16])\n",
      "camera_1 torch.Size([2, 768, 8, 8])\n"
     ]
    }
   ],
   "source": [
    "\n",
    "for idx, (camera_key, features) in enumerate(feature_dicts.items()):\n",
    "    print(camera_key, list(features.values())[idx].shape)\n",
    "    # for key, feature in features.items():\n",
    "    #     print(key, feature.shape)"
   ]
  },
  {
   "cell_type": "code",
   "execution_count": 6,
   "metadata": {},
   "outputs": [
    {
     "name": "stderr",
     "output_type": "stream",
     "text": [
      "GPU available: True (cuda), used: True\n",
      "TPU available: False, using: 0 TPU cores\n",
      "IPU available: False, using: 0 IPUs\n",
      "HPU available: False, using: 0 HPUs\n",
      "LOCAL_RANK: 0 - CUDA_VISIBLE_DEVICES: [0]\n",
      "\n",
      "  | Name      | Type                  | Params\n",
      "----------------------------------------------------\n",
      "0 | cameras   | ModuleDict            | 0     \n",
      "1 | fpn       | FeaturePyramidNetwork | 470 K \n",
      "2 | ray_pe    | Conv2d                | 384   \n",
      "3 | pos_pe    | Linear                | 384   \n",
      "4 | embedding | Linear                | 9.4 K \n",
      "5 | blocks    | ModuleList            | 452 K \n",
      "6 | heads     | ModuleList            | 195 K \n",
      "----------------------------------------------------\n",
      "1.1 M     Trainable params\n",
      "0         Non-trainable params\n",
      "1.1 M     Total params\n",
      "4.517     Total estimated model params size (MB)\n",
      "c:\\Users\\LeonardNgo\\miniconda3\\envs\\cvmpa\\lib\\site-packages\\lightning\\pytorch\\trainer\\connectors\\data_connector.py:441: The 'train_dataloader' does not have many workers which may be a bottleneck. Consider increasing the value of the `num_workers` argument` to `num_workers=11` in the `DataLoader` to improve performance.\n"
     ]
    },
    {
     "data": {
      "application/vnd.jupyter.widget-view+json": {
       "model_id": "e7236ce800cf4251b3f97667b087d628",
       "version_major": 2,
       "version_minor": 0
      },
      "text/plain": [
       "Training: |          | 0/? [00:00<?, ?it/s]"
      ]
     },
     "metadata": {},
     "output_type": "display_data"
    },
    {
     "name": "stderr",
     "output_type": "stream",
     "text": [
      "`Trainer.fit` stopped: `max_epochs=30` reached.\n"
     ]
    }
   ],
   "source": [
    "trainer = pl.Trainer(\n",
    "    max_epochs=30, #precision='16-mixed',\n",
    "    gradient_clip_val=35,\n",
    "    log_every_n_steps=20,\n",
    "    # accelerator=\"cpu\",\n",
    "    # profiler=\"simple\",\n",
    "    # detect_anomaly=True\n",
    ")\n",
    "net = cvmpca.CVMPCA(\n",
    "    train_loader.dataset.captures,\n",
    "    n_classes=len(train_loader.dataset.category_lookup)-1,\n",
    "    space=[[-11, 11], [0, 3], [-7, 7]],\n",
    "    # voxel_size=[.5, 1., 0.5],\n",
    "    # voxel_size=[0.25, 0.5, 0.25],\n",
    "    voxel_size=[0.15, 0.15, 0.15],\n",
    "    ratio=3,\n",
    "    target_ids=train_loader.dataset.category_lookup['phone']\n",
    ")\n",
    "\n",
    "trainer.fit(net, train_dataloaders=train_loader)\n",
    "# net.load_state_dict(torch.load('./cvca.pth'))"
   ]
  },
  {
   "cell_type": "code",
   "execution_count": 8,
   "metadata": {},
   "outputs": [
    {
     "name": "stdout",
     "output_type": "stream",
     "text": [
      "Loads checkpoint by http backend from path: https://download.openmmlab.com/mmdetection/v3.0/detr/detr_r50_8xb2-150e_coco/detr_r50_8xb2-150e_coco_20221023_153551-436d03e8.pth\n",
      "The model and loaded state dict do not match exactly\n",
      "\n",
      "unexpected key in source state_dict: data_preprocessor.mean, data_preprocessor.std\n",
      "\n"
     ]
    }
   ],
   "source": [
    "inferencer = DetInferencer('detr_r50_8xb2-150e_coco', show_progress=False)\n",
    "# path = f'{train_folder}/sequence.{frame.sequence}'\n",
    "\n",
    "def od2d(capture, img_path):\n",
    "    rotation = R.from_quat(capture.rotation)\n",
    "    position = np.array(capture.position)\n",
    "    resolution = np.array(capture.dimension)\n",
    "\n",
    "    intrinsic = np.array(capture.matrix).reshape((3, 3))\n",
    "    intrinsic /= intrinsic[-1,-1]\n",
    "    intrinsic *= np.array([*resolution, 1])*np.array([-.5, .5, 1])\n",
    "    intrinsic[-1, 0] = resolution[0]/2\n",
    "    intrinsic[-1, 1] = resolution[1]/2\n",
    "\n",
    "    \n",
    "    output = inferencer(img_path)\n",
    "    prediction = output['predictions'][0]\n",
    "    phone_probs = [prediction['scores'][idx] for idx in prediction['labels'] if idx == 67]  # 67: phone\n",
    "\n",
    "    anno_2d = [anno for anno in capture.annotations if isinstance(anno, BBox2DAnno)][0]\n",
    "    bbox_2d = {\n",
    "        bbox.instanceId: np.array(bbox.origin) + np.array(bbox.dimension)/2  # centroid of bounding box\n",
    "        for bbox in anno_2d.values\n",
    "        if bbox.labelName == 'phone' # and bbox.confidence > threshold\n",
    "    }\n",
    "\n",
    "    directions = {\n",
    "        instanceId: np.array([*bbox, 1]) @ np.linalg.inv(intrinsic) @ rotation.as_matrix().T\n",
    "        for instanceId, bbox in bbox_2d.items()\n",
    "    }\n",
    "    \n",
    "    return directions"
   ]
  },
  {
   "cell_type": "code",
   "execution_count": 14,
   "metadata": {},
   "outputs": [],
   "source": [
    "\n",
    "cat_list, logit_list = [], []\n",
    "opt_list, ca_list = [], []\n",
    "\n",
    "pos_err_list = []\n",
    "net.cpu()\n",
    "net.eval()\n",
    "for b_idx, batch in enumerate(train_loader):\n",
    "    # print(f'\\r{b_idx}/{len(train_loader)}', end='')\n",
    "\n",
    "    image_dict, object_list, img_path_list = batch\n",
    "    # image_dict_cuda = {\n",
    "    #     camera_key: {\n",
    "    #         key: feature.cuda()\n",
    "    #         for key, feature in features.items()\n",
    "    #     }\n",
    "    #     for camera_key, features in image_dict.items()\n",
    "    # }\n",
    "    output_dict = net(object_list, 200, image_dict)\n",
    "    index_list = net._match(output_dict['output_list'], object_list)\n",
    "    output_list = output_dict['output_list']\n",
    "\n",
    "    # for a, output in enumerate(output_list):\n",
    "    logits = output_list[0]['logits']\n",
    "    ca_logits = output_list[0]['ca']\n",
    "    position = output_list[0]['position']\n",
    "\n",
    "    B = logits.shape[0]\n",
    "    for b in range(B):\n",
    "        img_path = img_path_list[b]\n",
    "        logit = logits[b][:, net.target_ids].sigmoid().cpu().detach().numpy()\n",
    "        ca_logit = ca_logits[b].sigmoid().cpu().detach().numpy()  # (N, 2)\n",
    "        \n",
    "        label = object_list[b]\n",
    "        cat = label.category.argmax(-1).cpu().numpy()\n",
    "        opts = label.ca.mT.cpu().numpy()\n",
    "        \n",
    "        pred_ids, tgt_ids = index_list[b][0]\n",
    "        pred_ids_, tgt_ids_ = index_list[b][-1]\n",
    "        \n",
    "        pos = position[b][pred_ids].cpu().detach()#.numpy()\n",
    "        pos_label = label.position[tgt_ids].cpu()#.numpy()\n",
    "\n",
    "        logit = logit[pred_ids].tolist()# + [0]\n",
    "        ca_logit = ca_logit[pred_ids]# + [0]\n",
    "        \n",
    "        cat = cat[tgt_ids]# + [1]\n",
    "        opt = opts[tgt_ids]\n",
    "        \n",
    "        logit_list.extend(logit)\n",
    "        cat_list.extend(cat)\n",
    "\n",
    "        ca_list.extend(ca_logit)\n",
    "        opt_list.extend(opt)\n",
    "        pos_err_list.append(F.mse_loss(pos, pos_label).item())\n",
    "    #     print(b_idx, b, F.mse_loss(pos, pos_label).item())\n",
    "    #     if F.mse_loss(pos, pos_label).item() > 0.1: break\n",
    "    # if F.mse_loss(pos, pos_label).item() > 0.1: break\n",
    "\n",
    "            # break\n",
    "        # break\n",
    "    # if b_idx == 0: break\n",
    "\n",
    "logit_list.append(0)\n",
    "cat_list.append(1)\n",
    "\n",
    "# for m in range(4):\n",
    "#     RocCurveDisplay.from_predictions(\n",
    "#         # labels, predictions,\n",
    "#         np.array(opt_list)[:, m], np.array(ca_list)[:, m],\n",
    "#         pos_label=1,\n",
    "#         name='CV-CA',\n",
    "#         color=\"darkorange\",\n",
    "#         plot_chance_level=False,\n",
    "#     )\n",
    "#     plt.axis(\"square\")\n",
    "#     plt.xlabel(\"False Positive Rate\")\n",
    "#     plt.ylabel(\"True Positive Rate\")\n",
    "#     plt.title(\"ROC curve of UE detection\")\n",
    "#     plt.legend()\n",
    "#     plt.show()"
   ]
  },
  {
   "cell_type": "code",
   "execution_count": 15,
   "metadata": {},
   "outputs": [
    {
     "data": {
      "text/plain": [
       "(tensor([[-7.7792,  0.8243,  4.4706]]), tensor([[-7.7899,  0.8761,  4.5158]]))"
      ]
     },
     "execution_count": 15,
     "metadata": {},
     "output_type": "execute_result"
    }
   ],
   "source": [
    "pos, label.position[tgt_ids]"
   ]
  },
  {
   "cell_type": "code",
   "execution_count": 16,
   "metadata": {},
   "outputs": [
    {
     "data": {
      "text/plain": [
       "(0.880762, 0.99939394, 0.96737045)"
      ]
     },
     "execution_count": 16,
     "metadata": {},
     "output_type": "execute_result"
    }
   ],
   "source": [
    "ca_logit.min(), ca_logit.max(), ca_logit.mean()"
   ]
  },
  {
   "cell_type": "code",
   "execution_count": 17,
   "metadata": {},
   "outputs": [
    {
     "data": {
      "text/plain": [
       "(0.041363330272361054,\n",
       " 0.05460060317644957,\n",
       " 1.682251058809925e-05,\n",
       " 0.29755493998527527)"
      ]
     },
     "execution_count": 17,
     "metadata": {},
     "output_type": "execute_result"
    }
   ],
   "source": [
    "np.mean(pos_err_list), np.std(pos_err_list), np.min(pos_err_list), np.max(pos_err_list)"
   ]
  },
  {
   "cell_type": "code",
   "execution_count": 19,
   "metadata": {},
   "outputs": [
    {
     "data": {
      "image/png": "[encoded data removed]",
      "text/plain": [
       "<Figure size 640x480 with 1 Axes>"
      ]
     },
     "metadata": {},
     "output_type": "display_data"
    }
   ],
   "source": [
    "\n",
    "RocCurveDisplay.from_predictions(\n",
    "    # labels, predictions,\n",
    "    np.array(opt_list).ravel(), np.array(ca_list).ravel(),\n",
    "    pos_label=1,\n",
    "    name='CV-CA',\n",
    "    color=\"darkorange\",\n",
    "    plot_chance_level=False,\n",
    ")\n",
    "plt.axis(\"square\")\n",
    "plt.xlabel(\"False Positive Rate\")\n",
    "plt.ylabel(\"True Positive Rate\")\n",
    "plt.title(\"ROC curve of UE ca\")\n",
    "plt.legend()\n",
    "plt.show()"
   ]
  },
  {
   "cell_type": "code",
   "execution_count": 20,
   "metadata": {},
   "outputs": [
    {
     "ename": "",
     "evalue": "",
     "output_type": "error",
     "traceback": [
      "\u001b[1;31mThe Kernel crashed while executing code in the the current cell or a previous cell. Please review the code in the cell(s) to identify a possible cause of the failure. Click <a href='https://aka.ms/vscodeJupyterKernelCrash'>here</a> for more info. View Jupyter <a href='command:jupyter.viewOutput'>log</a> for further details."
     ]
    }
   ],
   "source": [
    "savemat(\n",
    "    \"./cvca_ca_roc.mat\", {\n",
    "        'label': np.array(opt_list).ravel(),\n",
    "        'pred': np.array(ca_list).ravel(),\n",
    "    }\n",
    ")"
   ]
  },
  {
   "cell_type": "code",
   "execution_count": null,
   "metadata": {},
   "outputs": [],
   "source": [
    "\n",
    "RocCurveDisplay.from_predictions(\n",
    "    # labels, predictions,\n",
    "    1+np.array(cat_list).ravel(), np.array(logit_list).ravel(),\n",
    "    pos_label=1,\n",
    "    name='CV-CA',\n",
    "    color=\"darkorange\",\n",
    "    plot_chance_level=False,\n",
    ")\n",
    "plt.axis(\"square\")\n",
    "plt.xlabel(\"False Positive Rate\")\n",
    "plt.ylabel(\"True Positive Rate\")\n",
    "plt.title(\"ROC curve of UE detection\")\n",
    "plt.legend()\n",
    "plt.show()\n",
    "\n",
    "savemat(\n",
    "    \"./cvca_det_roc.mat\", {\n",
    "        'label': np.array(cat_list).ravel(),\n",
    "        'pred': np.array(logit_list).ravel(),\n",
    "    }\n",
    ")"
   ]
  },
  {
   "cell_type": "code",
   "execution_count": null,
   "metadata": {},
   "outputs": [],
   "source": [
    "torch.save(net.state_dict(), './cvca.pth')"
   ]
  },
  {
   "cell_type": "code",
   "execution_count": null,
   "metadata": {},
   "outputs": [],
   "source": [
    "\n",
    "fpr, tpr, thresholds = roc_curve(np.array(opt_list).ravel(), np.array(ca_list).ravel(), pos_label=1)\n",
    "m, idx = -1, None\n",
    "for i, (f, t, l) in enumerate(zip(fpr, tpr, thresholds)):\n",
    "    if f == 0: \n",
    "        print(t, l)\n",
    "    if (1-f)*t > m:\n",
    "        m = f*t\n",
    "        idx = i\n",
    "m, thresholds[idx]\n"
   ]
  },
  {
   "cell_type": "code",
   "execution_count": null,
   "metadata": {},
   "outputs": [],
   "source": []
  }
 ],
 "metadata": {
  "kernelspec": {
   "display_name": "mpca",
   "language": "python",
   "name": "python3"
  },
  "language_info": {
   "codemirror_mode": {
    "name": "ipython",
    "version": 3
   },
   "file_extension": ".py",
   "mimetype": "text/x-python",
   "name": "python",
   "nbconvert_exporter": "python",
   "pygments_lexer": "ipython3",
   "version": "3.10.13"
  },
  "orig_nbformat": 4
 },
 "nbformat": 4,
 "nbformat_minor": 2
}
