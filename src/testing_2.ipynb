{
 "cells": [
  {
   "cell_type": "code",
   "execution_count": 45,
   "metadata": {},
   "outputs": [
    {
     "name": "stdout",
     "output_type": "stream",
     "text": [
      "The autoreload extension is already loaded. To reload it, use:\n",
      "  %reload_ext autoreload\n"
     ]
    },
    {
     "data": {
      "text/plain": [
       "'%.5f'"
      ]
     },
     "execution_count": 45,
     "metadata": {},
     "output_type": "execute_result"
    }
   ],
   "source": [
    "%load_ext autoreload\n",
    "%autoreload 2"
   ]
  },
  {
   "cell_type": "code",
   "execution_count": 47,
   "metadata": {},
   "outputs": [],
   "source": [
    "import math\n",
    "import numpy as np\n",
    "import scipy.linalg as la\n",
    "import matplotlib.pyplot as plt\n",
    "import scipy.optimize as opt\n",
    "np.set_printoptions(suppress=True)"
   ]
  },
  {
   "cell_type": "code",
   "execution_count": 37,
   "metadata": {},
   "outputs": [
    {
     "name": "stdout",
     "output_type": "stream",
     "text": [
      "[10.0, 9.899494936611665, 9.899494936611665]\n",
      "9.932996624407778\n"
     ]
    }
   ],
   "source": [
    "points = np.array([\n",
    "    [0, 10],\n",
    "    [7, -7],\n",
    "    [-7, -7]\n",
    "])\n",
    "def objective(p):\n",
    "    print([np.linalg.norm(p - point) for point in points])\n",
    "    return np.mean([np.linalg.norm(p - point) for point in points])\n",
    "\n",
    "# # objective(np.array([0, 0]))\n",
    "# sol = opt.minimize(objective, np.array([1, 5]),\n",
    "#     # constraints=[\n",
    "#     #     {'type': 'ineq', 'fun': lambda x: x[0] + 5},\n",
    "#     #     {'type': 'ineq', 'fun': lambda x: x[1] + 5},\n",
    "#     #     {'type': 'ineq', 'fun': lambda x: x[0] - 5},\n",
    "#     #     {'type': 'ineq', 'fun': lambda x: x[1] - 5},\n",
    "#     # ]\n",
    "#     bounds=((-5, 5), (-5, 5)),\n",
    "# )\n",
    "# print(sol.x)\n",
    "print(objective(np.array([0, 0])))"
   ]
  },
  {
   "cell_type": "code",
   "execution_count": 82,
   "metadata": {},
   "outputs": [
    {
     "name": "stdout",
     "output_type": "stream",
     "text": [
      "1: 0.71258\n",
      "2: 0.50776\n",
      "3: 0.36182\n",
      "4: 0.25782\n",
      "5: 0.18372\n",
      "6: 0.13091\n",
      "7: 0.09329\n",
      "8: 0.06647\n",
      "9: 0.04737\n"
     ]
    }
   ],
   "source": [
    "p_func = lambda d: 0.32 * math.e**(-((d-6.5)/32.6))\n",
    "\n",
    "# p_func = lambda d: min(20/d, 1)*(1 - math.e**(-d/39)) + math.e**(- d/39)\n",
    "# print(objective(np.array([0, 0])))\n",
    "\n",
    "\n",
    "d = 10\n",
    "probs, xs = [], []\n",
    "for i in range(1, 10):\n",
    "    nlos_prob_per_sbs = 1 - p_func(d)\n",
    "    nlos_prob = nlos_prob_per_sbs**i\n",
    "    xs.append(i)\n",
    "    probs.append(nlos_prob)\n",
    "    print(f'{i}: {nlos_prob:.5f}')"
   ]
  },
  {
   "cell_type": "code",
   "execution_count": null,
   "metadata": {},
   "outputs": [],
   "source": []
  },
  {
   "cell_type": "code",
   "execution_count": 76,
   "metadata": {},
   "outputs": [
    {
     "data": {
      "text/plain": [
       "1.00000"
      ]
     },
     "execution_count": 76,
     "metadata": {},
     "output_type": "execute_result"
    }
   ],
   "source": [
    "\n",
    "min(20/d, 1)*(1 - math.e**(-d/39)) + math.e**(- d/39)"
   ]
  },
  {
   "cell_type": "code",
   "execution_count": 78,
   "metadata": {},
   "outputs": [
    {
     "data": {
      "image/png": "[encoded data removed]",
      "text/plain": [
       "<Figure size 640x480 with 1 Axes>"
      ]
     },
     "metadata": {},
     "output_type": "display_data"
    }
   ],
   "source": [
    "plt.plot(xs, probs, marker = 'o')\n",
    "plt.xlabel('Number of SBSs')\n",
    "plt.ylabel('Probability of NLOS')\n",
    "plt.show()"
   ]
  },
  {
   "cell_type": "code",
   "execution_count": 61,
   "metadata": {},
   "outputs": [
    {
     "data": {
      "text/plain": [
       "0.28742"
      ]
     },
     "execution_count": 61,
     "metadata": {},
     "output_type": "execute_result"
    }
   ],
   "source": [
    "p_func(10)"
   ]
  },
  {
   "cell_type": "code",
   "execution_count": null,
   "metadata": {},
   "outputs": [],
   "source": [
    "from dataclasses import dataclass, field\n",
    "\n",
    "from typing import Dict, List, Tuple, Optional, Callable, Any\n",
    "\n",
    "import math\n",
    "import numpy as np\n",
    "from PIL import Image\n",
    "\n",
    "from pysolotools.consumers import Solo\n",
    "from pysolotools.converters.solo2coco import SOLO2COCOConverter\n",
    "from pysolotools.core.models import KeypointAnnotationDefinition, RGBCameraCapture\n",
    "from pysolotools.core.models import BoundingBox2DLabel, BoundingBox2DAnnotation\n",
    "from pysolotools.core.models import BoundingBox3DLabel, BoundingBox3DAnnotation\n",
    "from pysolotools.core.models import Frame, Capture\n",
    "from scipy.spatial.transform import Rotation as R\n",
    "\n",
    "from torchvision.datasets import ImageFolder\n",
    "from torchvision.models import swin_v2_t, Swin_V2_T_Weights\n",
    "from torchvision.models import swin_v2_b, Swin_V2_B_Weights\n",
    "# from torch.utils.data import ConcatDataset, DataLoader\n",
    "from collections import OrderedDict\n",
    "from torch.utils.data import DataLoader\n",
    "\n",
    "import torch\n",
    "from torch import nn, Tensor\n",
    "from torch.nn import functional as F\n",
    "\n",
    "import lightning.pytorch as pl\n",
    "\n",
    "import matplotlib.pyplot as plt\n",
    "from scipy.optimize import linear_sum_assignment\n",
    "\n",
    "import reader\n",
    "import network\n",
    "from my_trainer import HungarianMatcher, SetCriterion\n",
    "\n",
    "# %matplotlib ipympl"
   ]
  },
  {
   "cell_type": "code",
   "execution_count": null,
   "metadata": {},
   "outputs": [],
   "source": [
    "train_folder = 'D:/Unity/dataset/solo_34'\n",
    "solo = Solo(data_path=train_folder)\n",
    "# collecting paths and labels\n",
    "for frame in solo.frames():\n",
    "    for capture in frame.captures:\n",
    "        anno_3d = [\n",
    "            anno for anno in capture.annotations \n",
    "            if isinstance(anno, BoundingBox3DAnnotation)\n",
    "        ][0]\n",
    "        r = R.from_quat(capture.rotation)\n",
    "        for bbox in anno_3d.values:\n",
    "            print(\n",
    "                np.array(r.apply(bbox.translation) + capture.position)\n",
    "            )\n",
    "        break\n",
    "    \n",
    "    capture = frame.captures[0]\n",
    "    anno_3d = [\n",
    "        anno for anno in capture.annotations \n",
    "        if isinstance(anno, BoundingBox3DAnnotation)\n",
    "    ][0]\n",
    "    r = R.from_quat(capture.rotation)\n",
    "    for bbox in anno_3d.values:\n",
    "        print(\n",
    "            np.array(r.apply(bbox.translation) + capture.position)\n",
    "        )\n",
    "    break"
   ]
  }
 ],
 "metadata": {
  "kernelspec": {
   "display_name": "mpca",
   "language": "python",
   "name": "python3"
  },
  "language_info": {
   "codemirror_mode": {
    "name": "ipython",
    "version": 3
   },
   "file_extension": ".py",
   "mimetype": "text/x-python",
   "name": "python",
   "nbconvert_exporter": "python",
   "pygments_lexer": "ipython3",
   "version": "3.10.12"
  },
  "orig_nbformat": 4
 },
 "nbformat": 4,
 "nbformat_minor": 2
}
