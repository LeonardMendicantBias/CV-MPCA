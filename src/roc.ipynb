{
 "cells": [
  {
   "cell_type": "code",
   "execution_count": 1,
   "metadata": {},
   "outputs": [],
   "source": [
    "%load_ext autoreload\n",
    "%autoreload 2"
   ]
  },
  {
   "cell_type": "code",
   "execution_count": 12,
   "metadata": {},
   "outputs": [],
   "source": [
    "from typing import Dict, List, Tuple\n",
    "\n",
    "import numpy as np\n",
    "from PIL import Image\n",
    "\n",
    "from pysolotools.consumers import Solo\n",
    "from pysolotools.converters.solo2coco import SOLO2COCOConverter\n",
    "from pysolotools.core.models import KeypointAnnotationDefinition, RGBCameraCapture\n",
    "from pysolotools.core.models import BoundingBox2DLabel, BoundingBox2DAnnotation\n",
    "from pysolotools.core.models import BoundingBox3DLabel, BoundingBox3DAnnotation\n",
    "from pysolotools.core.models import Frame, Capture\n",
    "\n",
    "from scipy.spatial.transform import Rotation as R\n",
    "\n",
    "from torchvision.datasets import ImageFolder\n",
    "from torchvision.models import swin_v2_t, Swin_V2_T_Weights\n",
    "# from torch.utils.data import ConcatDataset, DataLoader\n",
    "\n",
    "import torch\n",
    "from torch import nn\n",
    "\n",
    "from scipy.io import savemat, loadmat\n",
    "from mmdet.apis import DetInferencer\n",
    "# from mmdet.apis import init_detector, inference_detector, show_result_pyplot\n",
    "\n",
    "from sklearn.metrics import auc, roc_curve\n",
    "import matplotlib.pyplot as plt\n",
    "from scipy.optimize import linear_sum_assignment\n",
    "from scipy.spatial.distance import cdist\n",
    "from scipy.io import savemat, loadmat\n",
    "\n",
    "import utils\n",
    "import reader\n",
    "# %matplotlib ipympl"
   ]
  },
  {
   "cell_type": "code",
   "execution_count": 3,
   "metadata": {},
   "outputs": [],
   "source": [
    "train_folder = 'D:/Unity/dataset/solo'\n",
    "# training_dir = './data/train'\n",
    "# testing_dir = './data/test'"
   ]
  },
  {
   "cell_type": "code",
   "execution_count": 4,
   "metadata": {},
   "outputs": [
    {
     "name": "stdout",
     "output_type": "stream",
     "text": [
      "Loads checkpoint by http backend from path: https://download.openmmlab.com/mmdetection/v3.0/detr/detr_r50_8xb2-150e_coco/detr_r50_8xb2-150e_coco_20221023_153551-436d03e8.pth\n",
      "The model and loaded state dict do not match exactly\n",
      "\n",
      "unexpected key in source state_dict: data_preprocessor.mean, data_preprocessor.std\n",
      "\n",
      "01/21 17:58:32 - mmengine - \u001b[5m\u001b[4m\u001b[33mWARNING\u001b[0m - Failed to search registry with scope \"mmdet\" in the \"function\" registry tree. As a workaround, the current \"function\" registry in \"mmengine\" is used to build instance. This may cause unexpected failure when running the built modules. Please check whether \"mmdet\" is a correct scope, or whether the registry is initialized.\n"
     ]
    },
    {
     "name": "stderr",
     "output_type": "stream",
     "text": [
      "c:\\Users\\LeonardNgo\\miniconda3\\envs\\cvmpa\\lib\\site-packages\\mmengine\\visualization\\visualizer.py:196: UserWarning: Failed to add <class 'mmengine.visualization.vis_backend.LocalVisBackend'>, please provide the `save_dir` argument.\n",
      "  warnings.warn(f'Failed to add {vis_backend.__class__}, '\n"
     ]
    }
   ],
   "source": [
    "# Initialize the DetInferencer\n",
    "inferencer = DetInferencer('detr_r50_8xb2-150e_coco', show_progress=False)\n"
   ]
  },
  {
   "cell_type": "markdown",
   "metadata": {},
   "source": [
    "2D object detection\n",
    "\n",
    "bbox -> AoD\n",
    "\n",
    "Save argument for each \"scene\" \\\n",
    "    - 3D position of UEs and SBSs\\\n",
    "    - AoD of visible UEs from each camera\\\n",
    "    - 3D"
   ]
  },
  {
   "cell_type": "code",
   "execution_count": 21,
   "metadata": {},
   "outputs": [],
   "source": [
    "min_req, max_req = 0.1, 0.1\n",
    "threshold = 0.7\n",
    "solo = Solo(data_path=train_folder)\n",
    "category_lookup = {v: k-1 for k, v in solo.categories().items()}\n",
    "all_predictions, all_labels = [], []\n",
    "for frame_idx, frame in enumerate(solo.frames()):\n",
    "    # print(f'\\rProcessing: {100*(frame_idx+1)/len(solo.frames()):.2f}% | {train_folder}/sequence.{frame.sequence}', end='')\n",
    "\n",
    "    objects = {}\n",
    "    sbs_positions = {}\n",
    "    capture_lookup = {}\n",
    "    for capture in frame.captures:\n",
    "        if capture.id not in sbs_positions:\n",
    "            sbs_positions[capture.id] = capture.position\n",
    "        if capture.id not in capture_lookup:\n",
    "            capture_lookup[capture.id] = len(capture_lookup)\n",
    "\n",
    "        anno_3d = [\n",
    "            anno for anno in capture.annotations \n",
    "            if isinstance(anno, BoundingBox3DAnnotation)\n",
    "        ][0]\n",
    "        if len(anno_3d.values) == 0: continue\n",
    "        \n",
    "        r = R.from_quat(capture.rotation)\n",
    "        for bbox in anno_3d.values:\n",
    "            # add new UE\n",
    "            if bbox.labelName == 'phone':\n",
    "                if bbox.instanceId not in objects:\n",
    "                    objects[bbox.instanceId] = reader.Object(\n",
    "                        instanceId=bbox.instanceId,\n",
    "                        category=np.zeros(len(category_lookup)),\n",
    "                        position=np.array(r.apply(bbox.translation)+capture.position),\n",
    "                        los=np.zeros(len(frame.captures)),\n",
    "                        required_rate=np.array([-1]),\n",
    "                        ca=np.zeros(len(frame.captures)),\n",
    "                    )\n",
    "                    objects[bbox.instanceId].category[category_lookup[bbox.labelName]] = 1\n",
    "                    if bbox.labelName == 'phone':\n",
    "                        objects[bbox.instanceId].required_rate = np.random.rand(1)*(max_req-min_req) + min_req\n",
    "\n",
    "                objects[bbox.instanceId].los[capture_lookup[capture.id]] = 1\n",
    "    if len(objects) == 0: continue\n",
    "    \n",
    "    # save the 3D positions all UEs\n",
    "    # savemat(\n",
    "    #     f'{train_folder}/sequence.{frame.sequence}/objects.mat',\n",
    "    #     {\n",
    "    #         'instanceId': np.array([obj.instanceId for obj in objects.values()]),\n",
    "    #         'category': np.array([obj.category for obj in objects.values()]),\n",
    "    #         'position': np.array([obj.position for obj in objects.values()]),\n",
    "    #         'required_rate': np.array([obj.required_rate for obj in objects.values()]),\n",
    "    #         'los': np.array([obj.los for obj in objects.values()]),\n",
    "    #     }\n",
    "    # )\n",
    "    # # save the 3D positions all SBSs\n",
    "    # savemat(\n",
    "    #     f'{train_folder}/sequence.{frame.sequence}/sbs.mat',\n",
    "    #     {\n",
    "    #         'position': np.array([\n",
    "    #             position for position in sbs_positions.values()\n",
    "    #         ]),\n",
    "    #     }\n",
    "    # )\n",
    "\n",
    "    for capture in frame.captures:\n",
    "        # bbox_2d = {}\n",
    "        rotation = R.from_quat(capture.rotation)\n",
    "        position = np.array(capture.position)\n",
    "        resolution = np.array(capture.dimension)\n",
    "\n",
    "        intrinsic = np.array(capture.matrix).reshape((3, 3))\n",
    "        intrinsic /= intrinsic[-1,-1]\n",
    "        intrinsic *= np.array([*resolution, 1])*np.array([-.5, .5, 1])\n",
    "        intrinsic[-1, 0] = resolution[0]/2\n",
    "        intrinsic[-1, 1] = resolution[1]/2\n",
    "        \n",
    "        # perform 2D object detection\n",
    "        path = f'{train_folder}/sequence.{frame.sequence}'\n",
    "        output = inferencer(f'{path}/{capture.filename}')\n",
    "\n",
    "        # get class scores of targeted classes\n",
    "        prediction = output['predictions'][0]\n",
    "        phone_ids = [i for i, idx in enumerate(prediction['labels']) if idx == 2]  # 67: phone\n",
    "        # phone_scores = [prediction['scores'][i] for i in phone_ids]\n",
    "        phone_scores = []  # list of predictions\n",
    "        for idx, label in enumerate(prediction['labels']):\n",
    "            if label != 67: continue\n",
    "            bbox = prediction['bboxes'][idx]\n",
    "            dimension = np.array([bbox[2]-bbox[0], bbox[3]-bbox[1]])\n",
    "            phone_scores.append([\n",
    "                prediction['scores'][idx],\n",
    "                np.array([bbox[0], bbox[2]]) + dimension/2,\n",
    "            ])\n",
    "\n",
    "        # filter out the low confidence detections\n",
    "        filter_ids = [i for i in phone_ids if prediction['scores'][i] >= threshold]\n",
    "        phone_bboxes = [prediction['bboxes'][i] for i in filter_ids]\n",
    "\n",
    "        # convert the bbox -> centroid -> AoD\n",
    "        centers = [(np.array(bbox[:2]) + np.array(bbox[2:]))/2 for bbox in phone_bboxes]\n",
    "        aods = [\n",
    "            np.array([c[0], c[1], 1]) @ np.linalg.inv(intrinsic) @ rotation.as_matrix().T\n",
    "            for c in centers\n",
    "        ]\n",
    "        # aods = [np.array(aod[0], aod[1], aod[2]) for aod in aods]\n",
    "        aods = [\n",
    "            np.array(np.arctan2(aod[2], aod[0]), np.arctan2(aod[1], np.linalg.norm(aod[0]+aod[2])))\n",
    "            for aod in aods\n",
    "        ]\n",
    "\n",
    "        # assign instanceId to each AoD\n",
    "        aodId = [-1 for _ in aods]\n",
    "\n",
    "        # retreiving list of labels\n",
    "        anno_2d = [\n",
    "            anno for anno in capture.annotations \n",
    "            if isinstance(anno, BoundingBox2DAnnotation)\n",
    "        ][0]  # annotation for 2D BBox\n",
    "        bbox_2d = {\n",
    "            bbox.instanceId: np.array(bbox.origin) + np.array(bbox.dimension)/2\n",
    "            for bbox in anno_2d.values\n",
    "        }  # list of labels\n",
    "        # pair predictions to labels\n",
    "        if len(bbox_2d) == 0 or len(phone_scores) == 0: \n",
    "            pred_ids, label_ids = [], []\n",
    "        else:\n",
    "            distances = cdist(\n",
    "                np.array([bbox for bbox in bbox_2d.values()]),\n",
    "                np.array([pred[1] for pred in phone_scores])\n",
    "            )\n",
    "            label_ids, pred_ids = linear_sum_assignment(distances)\n",
    "            \n",
    "        \n",
    "        if (a:=len(phone_scores)) < (b:=len(bbox_2d)):  # when there are less predictions than labels\n",
    "            _temp = b-a\n",
    "            predictions = [phone_scores[idx][0] for idx in pred_ids] + [0]*_temp #+ [1]\n",
    "            labels = [1]*b #+ [0]\n",
    "        else:  # when there are more predictions than labels\n",
    "            _temp = a-b\n",
    "            # there are b labels and _temp false positives\n",
    "            _ids = [idx for idx in list(range(len(phone_scores))) if idx not in pred_ids]\n",
    "            predictions = [phone_scores[idx][0] for idx in pred_ids] + [phone_scores[idx][0] for idx in _ids]\n",
    "            # predictions = [score[0] for score in phone_scores]\n",
    "            labels = [1]*b + [0]*_temp\n",
    "\n",
    "        all_predictions.extend(predictions)\n",
    "        all_labels.extend(labels)\n",
    "\n",
    "        if len(centers) > 0:\n",
    "            _bboxes = [bbox for bbox in anno_2d.values if bbox.labelName == 'phone']\n",
    "            for bbox in _bboxes:\n",
    "                label_center = np.array(bbox.origin) + np.array(bbox.dimension)/2\n",
    "                best_idx = None\n",
    "                min_dist = np.inf\n",
    "                for idx, center in enumerate(centers):\n",
    "                    dist = np.linalg.norm(label_center - center)\n",
    "                    if dist < min_dist:\n",
    "                        min_dist = dist\n",
    "                        best_idx = idx\n",
    "                aodId[best_idx] = bbox.instanceId\n",
    "        # savemat(\n",
    "        #     f'{path}/{capture.id}.mat',\n",
    "        #     {\n",
    "        #         'instanceId': np.array([obj.instanceId for obj in objects.values()]),\n",
    "        #         'category': np.array([obj.category for obj in objects.values()]),\n",
    "        #         'position': np.array([obj.position for obj in objects.values()]),\n",
    "        #         'required_rate': np.array([obj.required_rate for obj in objects.values()]),\n",
    "        #         'los': np.array([obj.los for obj in objects.values()]),\n",
    "        #         'aod': np.array(aods),\n",
    "        #         'aodId': np.array(aodId)\n",
    "        #     }\n",
    "        # )\n",
    "    # if frame_idx == 1: break\n"
   ]
  },
  {
   "cell_type": "markdown",
   "metadata": {},
   "source": [
    "To measure TPR and FPR for ROC, we need to obtain the list of predictions and the list of labels.\n",
    "\n",
    "As 2D OD (DETR) operates on each image, we average ROC over cameras.\n",
    "\n",
    "In each cameras, we obtain the list of predictions and the list of labels. \\\n",
    "If there is less predictions than labels, we append empty objects to prediction list and consider them as false negatives. \\\n",
    "If there is more predictions than labels, we append empty object to label list and consider them as false positives.\n"
   ]
  },
  {
   "cell_type": "code",
   "execution_count": 22,
   "metadata": {},
   "outputs": [
    {
     "data": {
      "text/plain": [
       "229"
      ]
     },
     "execution_count": 22,
     "metadata": {},
     "output_type": "execute_result"
    }
   ],
   "source": [
    "all_labels.count(0)"
   ]
  },
  {
   "cell_type": "code",
   "execution_count": 23,
   "metadata": {},
   "outputs": [],
   "source": [
    "if all_labels.count(0) == 0:\n",
    "    all_labels.append(0)\n",
    "    all_predictions.append(1)"
   ]
  },
  {
   "cell_type": "code",
   "execution_count": 27,
   "metadata": {},
   "outputs": [],
   "source": [
    "cvca_roc = loadmat('./cvca_det_roc.mat')\n",
    "cvca_labels, cvca_predictions = cvca_roc['label'][0], cvca_roc['pred'][0]\n",
    "fpr_2, tpr_2, thresholds = roc_curve(cvca_labels, cvca_predictions, pos_label=0) #, drop_intermediate=False)\n",
    "\n",
    "# store the fpr, tpr, and roc_auc for all averaging strategies\n",
    "# fpr, tpr, roc_auc = dict(), dict(), dict()\n",
    "# Compute micro-average ROC curve and ROC area\n",
    "fpr_1, tpr_1, thresholds = roc_curve(all_labels, all_predictions, pos_label=1) #, drop_intermediate=False)\n",
    "# fpr_1, tpr_1, thresholds"
   ]
  },
  {
   "cell_type": "code",
   "execution_count": 28,
   "metadata": {},
   "outputs": [
    {
     "data": {
      "image/png": "[encoded data removed]",
      "text/plain": [
       "<Figure size 640x480 with 1 Axes>"
      ]
     },
     "metadata": {},
     "output_type": "display_data"
    }
   ],
   "source": [
    "\n",
    "# plt.plot([0,1],[0,1], 'k--')\n",
    "# plt.plot(fpr1, tpr1, label= \"Linear\")\n",
    "# plt.plot(fpr2, tpr2, label= \"Poly\")\n",
    "# plt.plot(fpr3, tpr3, label= \"RBF\")\n",
    "plt.plot(fpr_1, tpr_1, label= \"DETR\")\n",
    "plt.plot(fpr_2, tpr_2, label= \"CV-CA\")\n",
    "plt.legend()\n",
    "plt.xlabel(\"False Positive Rate\")\n",
    "plt.ylabel(\"True Positive Rate\")\n",
    "plt.title('Receiver Operating Characteristic')\n",
    "plt.show()"
   ]
  },
  {
   "cell_type": "code",
   "execution_count": null,
   "metadata": {},
   "outputs": [],
   "source": [
    "\n",
    "\n",
    "from sklearn.metrics import RocCurveDisplay\n",
    "\n",
    "RocCurveDisplay.from_predictions(\n",
    "    all_labels, all_predictions,\n",
    "    pos_label=1,\n",
    "    name='DETR',\n",
    "    color=\"darkorange\",\n",
    "    plot_chance_level=False,\n",
    ")\n",
    "# RocCurveDisplay.from_predictions(\n",
    "#     all_labels, all_predictions,\n",
    "#     pos_label=1,\n",
    "#     name='abc',\n",
    "#     color=\"darkorange\",\n",
    "#     plot_chance_level=True,\n",
    "# )\n",
    "plt.axis(\"square\")\n",
    "plt.xlabel(\"False Positive Rate\")\n",
    "plt.ylabel(\"True Positive Rate\")\n",
    "plt.title(\"ROC curve of UE detection\")\n",
    "plt.legend()\n",
    "plt.show()"
   ]
  },
  {
   "cell_type": "code",
   "execution_count": null,
   "metadata": {},
   "outputs": [],
   "source": []
  }
 ],
 "metadata": {
  "kernelspec": {
   "display_name": "cvmpa",
   "language": "python",
   "name": "python3"
  },
  "language_info": {
   "codemirror_mode": {
    "name": "ipython",
    "version": 3
   },
   "file_extension": ".py",
   "mimetype": "text/x-python",
   "name": "python",
   "nbconvert_exporter": "python",
   "pygments_lexer": "ipython3",
   "version": "3.10.13"
  }
 },
 "nbformat": 4,
 "nbformat_minor": 2
}
